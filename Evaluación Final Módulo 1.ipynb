{
 "cells": [
  {
   "cell_type": "markdown",
   "metadata": {},
   "source": [
    "Este es el Jupiter-Notebook de la Evaluación Final del Módulo 1.\n",
    "\n",
    "Lo estructuraré por puntos, con los enunciados del PDF de la evaluación final-módulo 1.\n"
   ]
  },
  {
   "cell_type": "markdown",
   "metadata": {},
   "source": [
    "A. `inventario` (lista de diccionarios): Una estructura para almacenar los\n",
    "productos en el inventario. Cada producto debe ser representado como un\n",
    "diccionario con las siguientes claves: `'nombre'`, `'precio'`, y\n",
    "`'cantidad'`. Al principio deberá ser una lista vacía."
   ]
  },
  {
   "cell_type": "code",
   "execution_count": 159,
   "metadata": {},
   "outputs": [],
   "source": [
    "def agregar_producto(nombre, precio, cantidad):\n",
    "    inventario.append({'nombre': nombre, 'precio': precio, 'cantidad': cantidad})\n",
    "\n",
    "inventario = [] \n",
    "clientes = {}   \n",
    "ventas_totales = 0.0  \n"
   ]
  },
  {
   "cell_type": "markdown",
   "metadata": {},
   "source": [
    "B. `clientes` (diccionario): Una estructura para llevar un registro de los\n",
    "clientes de la tienda. Cada cliente debe ser representado como un\n",
    "diccionario con las siguientes claves: `'nombre'` y `'email'`. Al inicio\n",
    "deberá ser un diccionario vacío. Además, cada cliente debe tener un\n",
    "historial de compras.\n"
   ]
  },
  {
   "cell_type": "markdown",
   "metadata": {},
   "source": [
    "Para registrar a los clientes, lo haremos así:"
   ]
  },
  {
   "cell_type": "code",
   "execution_count": 151,
   "metadata": {},
   "outputs": [],
   "source": [
    "def registrar_cliente(nombre, email):\n",
    "    if nombre not in clientes:\n",
    "        clientes[nombre] = {'email': email, 'compras': []}\n",
    "    else:\n",
    "        print(f\"El cliente {nombre} ya está registrado.\")\n"
   ]
  },
  {
   "cell_type": "markdown",
   "metadata": {},
   "source": [
    "Para registrar la compra de un cliente, lo haremos de esta manera:"
   ]
  },
  {
   "cell_type": "code",
   "execution_count": null,
   "metadata": {},
   "outputs": [],
   "source": [
    "\n",
    "\n",
    "def registrar_compra(cliente_nombre, producto_nombre, cantidad):\n",
    "    global ventas_totales\n",
    "    \n",
    "    if cliente_nombre in clientes:\n",
    "        cliente = clientes[cliente_nombre]\n",
    "    else:\n",
    "        print(f\"El cliente {cliente_nombre} no está registrado.\")\n",
    "        return\n",
    "    \n",
    "    for producto in inventario:\n",
    "        if producto['nombre'] == producto_nombre:\n",
    "            if producto['cantidad'] >= cantidad:\n",
    "                precio_total = producto['precio'] * cantidad\n",
    "                ventas_totales += precio_total\n",
    "                producto['cantidad'] -= cantidad\n",
    "                cliente['compras'].append({'producto': producto_nombre, 'cantidad': cantidad, 'precio_total': precio_total})\n",
    "                print(f\"Compra realizada: {cantidad} x {producto_nombre} por {precio_total} USD\")\n",
    "                return\n",
    "            else:\n",
    "                print(f\"No hay suficiente cantidad de {producto_nombre}. Solo hay {producto['cantidad']} unidades.\")\n",
    "                return\n",
    "    print(f\"El producto {producto_nombre} no existe en el inventario.\")\n"
   ]
  },
  {
   "cell_type": "markdown",
   "metadata": {},
   "source": [
    "Para mostrar ventas totales, lo haremos de la siguiente manera:"
   ]
  },
  {
   "cell_type": "code",
   "execution_count": 131,
   "metadata": {},
   "outputs": [
    {
     "name": "stdout",
     "output_type": "stream",
     "text": [
      "Ventas totales: 0.0 USD\n"
     ]
    }
   ],
   "source": [
    "def mostrar_ventas_totales():\n",
    "    print(f\"Ventas totales: {ventas_totales} USD\")\n",
    "\n",
    "mostrar_ventas_totales()\n"
   ]
  },
  {
   "cell_type": "markdown",
   "metadata": {},
   "source": [
    "Crear una lista de clientes. La lista de cliente estaba de entrada vacía."
   ]
  },
  {
   "cell_type": "code",
   "execution_count": 80,
   "metadata": {},
   "outputs": [],
   "source": [
    "registrar_cliente('Cliente1', 'cliente1@email.com')\n",
    "registrar_cliente('Cliente2', 'cliente2@email.com')\n",
    "registrar_cliente('Cliente3', 'cliente3@email.com') \n",
    "registrar_cliente('Cliente4', 'cliente4@email.com')\n",
    "registrar_cliente('Cliente5', 'cliente5@email.com')\n",
    "\n"
   ]
  },
  {
   "cell_type": "markdown",
   "metadata": {},
   "source": [
    "1. AGREGAR un producto. La lista de productos de entrada estaba vacía."
   ]
  },
  {
   "cell_type": "code",
   "execution_count": 132,
   "metadata": {},
   "outputs": [],
   "source": [
    "agregar_producto('Camisa', 20, 40)\n",
    "agregar_producto('Pantalón', 30, 30)\n",
    "\n"
   ]
  },
  {
   "cell_type": "markdown",
   "metadata": {},
   "source": [
    "2. `ver_inventario()`: Muestra el inventario de productos con sus detalles.\n",
    "- Utiliza un bucle `for` para recorrer el inventario.\n",
    "- Imprime los detalles (nombre, precio, cantidad) de cada producto."
   ]
  },
  {
   "cell_type": "code",
   "execution_count": null,
   "metadata": {},
   "outputs": [
    {
     "name": "stdout",
     "output_type": "stream",
     "text": [
      "Inventario de productos:\n",
      "Producto: Camisa, Precio: 20 USD, Cantidad: 40\n",
      "Producto: Pantalón, Precio: 30 USD, Cantidad: 30\n"
     ]
    }
   ],
   "source": [
    "\n",
    "def ver_inventario():\n",
    "    if not inventario:\n",
    "        print(\"El inventario está vacío.\")\n",
    "    else:\n",
    "        print(\"Inventario de productos:\")\n",
    "        for producto in inventario:\n",
    "            print(f\"Producto: {producto['nombre']}, Precio: {producto['precio']} USD, Cantidad: {producto['cantidad']}\")\n",
    "ver_inventario()\n"
   ]
  },
  {
   "cell_type": "markdown",
   "metadata": {},
   "source": [
    "3. `buscar_producto(nombre)`: Busca un producto en el inventario por nombre\n",
    "y muestra sus detalles si se encuentra. Debe recibir el nombre del producto\n",
    "como parámetro.\n",
    "- Utiliza un bucle `for` para recorrer el inventario.\n",
    "- Compara los nombres de los productos con el nombre proporcionado.\n",
    "- Si se encuentra el producto, imprime sus detalles."
   ]
  },
  {
   "cell_type": "code",
   "execution_count": null,
   "metadata": {},
   "outputs": [],
   "source": [
    "\n",
    "def buscar_producto(nombre):\n",
    "    for producto in inventario:\n",
    "        if producto['nombre'].lower() == nombre.lower():  # Comparar sin diferenciar mayúsculas/minúsculas\n",
    "            print(f\"Producto encontrado: {producto['nombre']}\")\n",
    "            print(f\"Precio: {producto['precio']} USD\")\n",
    "            print(f\"Cantidad disponible: {producto['cantidad']}\")\n",
    "            return\n",
    "    print(f\"El producto '{nombre}' no se encuentra en el inventario.\")\n"
   ]
  },
  {
   "cell_type": "code",
   "execution_count": null,
   "metadata": {},
   "outputs": [
    {
     "name": "stdout",
     "output_type": "stream",
     "text": [
      "Producto encontrado: Camisa\n",
      "Precio: 20 USD\n",
      "Cantidad disponible: 40\n",
      "El producto 'Zapatos' no se encuentra en el inventario.\n"
     ]
    }
   ],
   "source": [
    "\n",
    "buscar_producto('Camisa')\n",
    "\n",
    "buscar_producto('Zapatos')"
   ]
  },
  {
   "cell_type": "markdown",
   "metadata": {},
   "source": [
    "4. `actualizar_stock(nombre, cantidad)`: Actualiza el stock de un producto\n",
    "en el inventario. Debe recibir el nombre del producto y la cantidad a\n",
    "agregar o quitar como parámetros."
   ]
  },
  {
   "cell_type": "code",
   "execution_count": 156,
   "metadata": {},
   "outputs": [],
   "source": [
    "\n",
    "def actualizar_stock(nombre, cantidad):\n",
    "    for producto in inventario:\n",
    "        if producto['nombre'].lower() == nombre.lower():  \n",
    "            producto['cantidad'] += cantidad\n",
    "            if producto['cantidad'] < 0:\n",
    "                producto['cantidad'] = 0  \n",
    "            print(f\"Stock actualizado: {producto['nombre']} ahora tiene {producto['cantidad']} unidades.\")\n",
    "            return\n",
    "    print(f\"El producto '{nombre}' no se encuentra en el inventario.\")\n"
   ]
  },
  {
   "cell_type": "code",
   "execution_count": null,
   "metadata": {},
   "outputs": [
    {
     "name": "stdout",
     "output_type": "stream",
     "text": [
      "Stock actualizado: Camisa ahora tiene 50 unidades.\n",
      "Stock actualizado: Pantalón ahora tiene 25 unidades.\n",
      "El producto 'Zapatos' no se encuentra en el inventario.\n"
     ]
    }
   ],
   "source": [
    "\n",
    "actualizar_stock('Camisa', 10)  \n",
    "actualizar_stock('Pantalón', -5)  \n",
    "actualizar_stock('Zapatos', 15) "
   ]
  },
  {
   "cell_type": "markdown",
   "metadata": {},
   "source": [
    "5. `eliminar_producto(nombre)`: Elimina un producto del inventario por\n",
    "nombre. Debe recibir el nombre del producto como parámetro.\n",
    "- Utiliza un bucle `for` para recorrer el inventario.\n",
    "- Busca el producto por nombre.\n",
    "- Elimina el producto del inventario si existe.\n",
    "- Si el producto no esta en el inventario muestra un mensaje\n",
    "indicándolo."
   ]
  },
  {
   "cell_type": "code",
   "execution_count": 158,
   "metadata": {},
   "outputs": [],
   "source": [
    "\n",
    "def eliminar_producto(nombre):\n",
    "    for producto in inventario:\n",
    "        if producto['nombre'].lower() == nombre.lower(): \n",
    "            inventario.remove(producto) \n",
    "            print(f\"Producto '{nombre}' eliminado del inventario.\")\n",
    "            return\n",
    "    print(f\"El producto '{nombre}' no se encuentra en el inventario.\")\n"
   ]
  },
  {
   "cell_type": "code",
   "execution_count": null,
   "metadata": {},
   "outputs": [
    {
     "name": "stdout",
     "output_type": "stream",
     "text": [
      "Producto 'Camisa' eliminado del inventario.\n",
      "El producto 'Zapatos' no se encuentra en el inventario.\n"
     ]
    }
   ],
   "source": [
    "\n",
    "eliminar_producto('Camisa')  \n",
    "eliminar_producto('Zapatos')  "
   ]
  },
  {
   "cell_type": "markdown",
   "metadata": {},
   "source": [
    "6. `calcular_valor_inventario()`: Calcula y muestra el valor total del\n",
    "inventario.\n",
    "- Utiliza un bucle for para calcular el valor total del inventario.\n",
    "- Itera a través del inventario y suma el valor de cada producto\n",
    "(precio x cantidad). Es decir, calcula el valor total del inventario."
   ]
  },
  {
   "cell_type": "code",
   "execution_count": 157,
   "metadata": {},
   "outputs": [],
   "source": [
    "\n",
    "def calcular_valor_inventario():\n",
    "    valor_total = 0 \n",
    "    for producto in inventario:\n",
    "        valor_producto = producto['precio'] * producto['cantidad'] \n",
    "        valor_total += valor_producto \n",
    "    print(f\"El valor total del inventario es: {valor_total} USD\")\n"
   ]
  },
  {
   "cell_type": "code",
   "execution_count": null,
   "metadata": {},
   "outputs": [
    {
     "name": "stdout",
     "output_type": "stream",
     "text": [
      "El valor total del inventario es: 760 USD\n"
     ]
    }
   ],
   "source": [
    "agregar_producto('Calcetines', 1, 10)  \n",
    "\n",
    "\n",
    "calcular_valor_inventario()"
   ]
  },
  {
   "cell_type": "markdown",
   "metadata": {},
   "source": [
    "7. `realizar_compra()`: Permite a un cliente realizar una compra\n",
    "seleccionando productos del inventario. Debe interactuar con el cliente para\n",
    "seleccionar productos y calcular el costo total de la compra.\n",
    "- Utiliza un bucle `while` para permitir al cliente realizar múltiples\n",
    "compras.\n",
    "- Muestra el inventario y solicita al cliente ingresar el nombre del\n",
    "producto que desea comprar.\n",
    "- Registra los productos seleccionados en un carrito y actualiza el\n",
    "inventario.\n",
    "- Calcula el costo total de la compra.\n"
   ]
  },
  {
   "cell_type": "code",
   "execution_count": 145,
   "metadata": {},
   "outputs": [],
   "source": [
    "\n",
    "def realizar_compra(cliente_nombre):\n",
    "    if cliente_nombre not in clientes:\n",
    "        print(f\"El cliente {cliente_nombre} no está registrado.\")\n",
    "        return\n",
    "    carrito = []  \n",
    "    total_compra = 0  \n",
    "\n",
    "    print(f\"\\nBienvenido {cliente_nombre}, vamos a realizar tu compra.\\n\")\n",
    "    while True:\n",
    "        print(\"Inventario disponible:\")\n",
    "        for producto in inventario:\n",
    "            print(f\"{producto['nombre']} - Precio: {producto['precio']} USD - Cantidad disponible: {producto['cantidad']}\")\n",
    "\n",
    "        producto_nombre = input(\"\\n¿De qué producto te gustaría comprar? (Escribe 'salir' para terminar la compra): \").strip()\n",
    "\n",
    "        if producto_nombre.lower() == 'salir':\n",
    "            break  \n",
    "        for producto in inventario:\n",
    "            if producto['nombre'].lower() == producto_nombre.lower():\n",
    "                cantidad = int(input(f\"¿Cuántas unidades de {producto_nombre} deseas comprar? (Cantidad disponible: {producto['cantidad']}): \"))\n",
    "                if cantidad > 0 and cantidad <= producto['cantidad']:\n",
    "                    precio_total = producto['precio'] * cantidad\n",
    "                    total_compra += precio_total\n",
    "                    producto['cantidad'] -= cantidad  \n",
    "                    carrito.append({'producto': producto_nombre, 'cantidad': cantidad, 'precio_total': precio_total})\n",
    "                    print(f\"Agregaste {cantidad} unidades de {producto_nombre} a tu carrito. Total: {precio_total} USD\\n\")\n",
    "                else:\n",
    "                    print(f\"No puedes comprar esa cantidad. Solo hay {producto['cantidad']} unidades disponibles.\\n\")\n",
    "                break\n",
    "        else:\n",
    "            print(f\"El producto '{producto_nombre}' no se encuentra en el inventario.\\n\")\n",
    "\n",
    "    if carrito:\n",
    "        print(\"\\nResumen de tu compra:\")\n",
    "        for item in carrito:\n",
    "            print(f\"{item['cantidad']} x {item['producto']} = {item['precio_total']} USD\")\n",
    "        print(f\"\\nTotal de la compra: {total_compra} USD\")\n",
    "        \n",
    "        clientes[cliente_nombre]['compras'].append({'productos': carrito, 'total': total_compra})\n",
    "        print(f\"\\nGracias por tu compra, {cliente_nombre}!\")\n",
    "    else:\n",
    "        print(\"\\nNo realizaste ninguna compra.\")\n"
   ]
  },
  {
   "cell_type": "markdown",
   "metadata": {},
   "source": [
    "9. `agregar_cliente(nombre, email)`: Agrega un nuevo cliente al registro de\n",
    "clientes. Debe recibir el nombre y el correo electrónico del cliente como\n",
    "parámetros.\n",
    "- Agrega un cliente al diccionario de clientes con su nombre y correo\n",
    "electrónico."
   ]
  },
  {
   "cell_type": "code",
   "execution_count": 146,
   "metadata": {},
   "outputs": [],
   "source": [
    "\n",
    "def agregar_cliente(nombre, email):\n",
    "    if nombre in clientes:\n",
    "        print(f\"El cliente {nombre} ya está registrado.\")\n",
    "    else:\n",
    "        clientes[nombre] = {'email': email, 'compras': []}\n",
    "        print(f\"Cliente {nombre} agregado con éxito.\")\n"
   ]
  },
  {
   "cell_type": "code",
   "execution_count": 154,
   "metadata": {},
   "outputs": [
    {
     "name": "stdout",
     "output_type": "stream",
     "text": [
      "El cliente Cliente1 ya está registrado.\n",
      "El cliente Cliente2 ya está registrado.\n",
      "Cliente Cliente3 agregado con éxito.\n",
      "Cliente Cliente4 agregado con éxito.\n",
      "El cliente Cliente1 ya está registrado.\n"
     ]
    }
   ],
   "source": [
    "\n",
    "agregar_cliente('Cliente1', 'cliente1@email.com')\n",
    "agregar_cliente('Cliente2', 'cliente2@email.com')\n",
    "agregar_cliente('Cliente3', 'cliente3@gmaillcom')\n",
    "agregar_cliente('Cliente4', 'cliente4@gmaillcom')\n",
    "\n",
    "\n",
    "agregar_cliente('Cliente1', 'cliente1nuev@email.com')\n"
   ]
  },
  {
   "cell_type": "markdown",
   "metadata": {},
   "source": [
    "10. `ver_clientes()`: Muestra la lista de clientes registrados con sus\n",
    "nombres y correos electrónicos.\n",
    "- Utiliza un bucle `for` para recorrer la base de datos de clientes.\n",
    "- Imprime los detalles de cada cliente (nombre y correo electrónico)."
   ]
  },
  {
   "cell_type": "code",
   "execution_count": 148,
   "metadata": {},
   "outputs": [],
   "source": [
    "\n",
    "def ver_clientes():\n",
    "    if not clientes:\n",
    "        print(\"No hay clientes registrados.\")\n",
    "        return\n",
    "    \n",
    "    print(\"Lista de clientes registrados:\")\n",
    "    for nombre, datos_cliente in clientes.items():\n",
    "        print(f\"Nombre: {nombre}, Correo electrónico: {datos_cliente['email']}\")\n"
   ]
  },
  {
   "cell_type": "code",
   "execution_count": null,
   "metadata": {},
   "outputs": [
    {
     "name": "stdout",
     "output_type": "stream",
     "text": [
      "El cliente Cliente1 ya está registrado.\n",
      "El cliente Cliente2 ya está registrado.\n",
      "El cliente Cliente3 ya está registrado.\n",
      "El cliente Cliente4 ya está registrado.\n",
      "Cliente Cliente5 agregado con éxito.\n",
      "Lista de clientes registrados:\n",
      "Nombre: Cliente1, Correo electrónico: cliente1@email.com\n",
      "Nombre: Cliente2, Correo electrónico: cliente2@email.com\n",
      "Nombre: Cliente3, Correo electrónico: cliente3@gmaillcom\n",
      "Nombre: Cliente4, Correo electrónico: cliente4@gmaillcom\n",
      "Nombre: Cliente5, Correo electrónico: cliente5@gmail.com\n"
     ]
    }
   ],
   "source": [
    "\n",
    "agregar_cliente('Cliente1', 'cliente1@gmail.com')\n",
    "agregar_cliente('Cliente2', 'cliente2@gmail.com')\n",
    "agregar_cliente('Cliente3', 'cliente3@gmail.com')\n",
    "agregar_cliente('Cliente4', 'cliente4@gmail.com')       \n",
    "agregar_cliente('Cliente5', 'cliente5@gmail.com')\n",
    "\n",
    "ver_clientes()\n"
   ]
  }
 ],
 "metadata": {
  "kernelspec": {
   "display_name": "Python 3",
   "language": "python",
   "name": "python3"
  },
  "language_info": {
   "codemirror_mode": {
    "name": "ipython",
    "version": 3
   },
   "file_extension": ".py",
   "mimetype": "text/x-python",
   "name": "python",
   "nbconvert_exporter": "python",
   "pygments_lexer": "ipython3",
   "version": "3.9.6"
  }
 },
 "nbformat": 4,
 "nbformat_minor": 2
}
